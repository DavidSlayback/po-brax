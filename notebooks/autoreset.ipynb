{
 "cells": [
  {
   "cell_type": "code",
   "execution_count": null,
   "metadata": {
    "collapsed": true
   },
   "outputs": [],
   "source": [
    "from IPython.display import HTML, Image\n",
    "\n",
    "try:\n",
    "  import brax\n",
    "except ImportError:\n",
    "  from IPython.display import clear_output\n",
    "  !pip install git+https://github.com/google/brax.git@main\n",
    "  clear_output()\n",
    "  import brax\n",
    "\n",
    "from brax import envs\n",
    "from brax.io import html\n",
    "# import timeit"
   ]
  },
  {
   "cell_type": "code",
   "execution_count": null,
   "outputs": [],
   "source": [
    "from typing import Sequence, Union\n",
    "\n",
    "import jax\n",
    "from brax.jumpy import _in_jit, X, Optional, Tuple, Callable, onp, Any, _which_np, jnp, ndarray\n",
    "\n",
    "\n",
    "def while_loop(cond_fun: Callable[[X], Any],\n",
    "               body_fun: Callable[[X], X],\n",
    "               init_val: X) -> X:\n",
    "    \"\"\"Call ``body_fun`` repeatedly in a loop while ``cond_fun`` is True.\n",
    "\n",
    "    The type signature in brief is\n",
    "\n",
    "    .. code-block:: haskell\n",
    "\n",
    "      while_loop :: (a -> Bool) -> (a -> a) -> a -> a\n",
    "\n",
    "    The semantics of ``while_loop`` are given by this Python implementation::\n",
    "\n",
    "      def while_loop(cond_fun, body_fun, init_val):\n",
    "        val = init_val\n",
    "        while cond_fun(val):\n",
    "          val = body_fun(val)\n",
    "        return val\n",
    "    \"\"\"\n",
    "    if _in_jit():\n",
    "        return jax.lax.while_loop(cond_fun, body_fun, init_val)\n",
    "    else:\n",
    "        val = init_val\n",
    "        while cond_fun(val):\n",
    "            val = body_fun(val)\n",
    "        return val\n",
    "\n",
    "\n",
    "def index_add(x: ndarray, idx: ndarray, y: ndarray) -> ndarray:\n",
    "    \"\"\"Pure equivalent of x[idx] += y.\"\"\"\n",
    "    if _which_np(x) is jnp:\n",
    "        return x.at[idx].add(y)\n",
    "    x = onp.copy(x)\n",
    "    x[idx] += y\n",
    "    return x\n",
    "\n",
    "\n",
    "def meshgrid(*xi, copy: bool = True, sparse: bool = False, indexing: str = 'xy') -> ndarray:\n",
    "    if _which_np(xi[0]) is jnp:\n",
    "        return jnp.meshgrid(*xi, copy=copy, sparse=sparse, indexing=indexing)\n",
    "    return onp.meshgrid(*xi, copy=copy, sparse=sparse, indexing=indexing)\n",
    "\n",
    "\n",
    "def randint(rng: ndarray, shape: Tuple[int, ...] = (),\n",
    "            low: Optional[int] = 0, high: Optional[int] = 1) -> ndarray:\n",
    "    \"\"\"Sample integers in [low, high) with given shape.\"\"\"\n",
    "    if _which_np(rng) is jnp:\n",
    "        return jax.random.randint(rng, shape=shape, minval=low, maxval=high)\n",
    "    else:\n",
    "        return onp.random.default_rng(rng).integers(low=low, high=high, size=shape)\n",
    "\n",
    "\n",
    "def choice(rng: ndarray, a: Union[int, Any], shape: Tuple[int, ...] = (),\n",
    "           replace: bool = True, p: Optional[Any] = None, axis: int = 0) -> ndarray:\n",
    "    \"\"\"Pick from  in [low, high) with given shape.\"\"\"\n",
    "    if _which_np(rng) is jnp:\n",
    "        return jax.random.choice(rng, a, shape=shape, replace=replace, p=p, axis=axis)\n",
    "    else:\n",
    "        return onp.random.default_rng(rng).choice(a, size=shape, replace=replace, p=p, axis=axis)\n",
    "\n",
    "\n",
    "def atleast_1d(*arys) -> ndarray:\n",
    "    return _which_np(*arys).atleast_1d(*arys)\n",
    "\n",
    "\n",
    "def cond(pred, true_fun: Callable, false_fun: Callable, *operands: Any):\n",
    "    if _in_jit():\n",
    "        return jax.lax.cond(pred, true_fun, false_fun, *operands)\n",
    "    else:\n",
    "        if pred:return true_fun(operands)\n",
    "        else: return false_fun(operands)"
   ],
   "metadata": {
    "collapsed": false,
    "pycharm": {
     "name": "#%%\n"
    }
   }
  },
  {
   "cell_type": "code",
   "execution_count": null,
   "outputs": [],
   "source": [
    "from brax.envs import State, Wrapper\n",
    "import brax.jumpy as jp\n",
    "class RandomizedAutoResetWrapperNaive(Wrapper):\n",
    "    \"\"\"Automatically resets Brax envs that are done.\n",
    "\n",
    "    Force resample every step. Inefficient\"\"\"\n",
    "    def step(self, state: State, action: jp.ndarray) -> State:\n",
    "        if 'steps' in state.info:\n",
    "            steps = state.info['steps']\n",
    "            steps = jp.where(state.done, jp.zeros_like(steps), steps)\n",
    "            state.info.update(steps=steps)\n",
    "        state = state.replace(done=jp.zeros_like(state.done))\n",
    "        state = self.env.step(state, action)\n",
    "        maybe_reset = self.reset(state.info['rng'])\n",
    "\n",
    "        def where_done(x, y):\n",
    "            done = state.done\n",
    "            if done.shape:\n",
    "                done = jp.reshape(done, [x.shape[0]] + [1] * (len(x.shape) - 1))  # type: ignore\n",
    "            return jp.where(done, x, y)\n",
    "\n",
    "        qp = jp.tree_map(where_done, maybe_reset.qp, state.qp)\n",
    "        obs = where_done(maybe_reset.obs, state.obs)\n",
    "        return state.replace(qp=qp, obs=obs)\n",
    "\n",
    "\n",
    "class RandomizedAutoResetWrapperOnTerminal(Wrapper):\n",
    "    \"\"\"Automatically reset Brax envs that are done.\n",
    "\n",
    "    Resample only when >=1 environment is actually done. Still resamples for all\n",
    "    \"\"\"\n",
    "    def step(self, state: State, action: jp.ndarray) -> State:\n",
    "        if 'steps' in state.info:\n",
    "            steps = state.info['steps']\n",
    "            steps = jp.where(state.done, jp.zeros_like(steps), steps)\n",
    "            state.info.update(steps=steps)\n",
    "        state = state.replace(done=jp.zeros_like(state.done))\n",
    "        state = self.env.step(state, action)\n",
    "        maybe_reset = cond(state.done.any(), self.reset, lambda rng: state, state.info['rng'])\n",
    "\n",
    "        def where_done(x, y):\n",
    "            done = state.done\n",
    "            if done.shape:\n",
    "                done = jp.reshape(done, [x.shape[0]] + [1] * (len(x.shape) - 1))  # type: ignore\n",
    "            return jp.where(done, x, y)\n",
    "\n",
    "        qp = jp.tree_map(where_done, maybe_reset.qp, state.qp)\n",
    "        obs = where_done(maybe_reset.obs, state.obs)\n",
    "        return state.replace(qp=qp, obs=obs)"
   ],
   "metadata": {
    "collapsed": false,
    "pycharm": {
     "name": "#%%\n"
    }
   }
  },
  {
   "cell_type": "code",
   "execution_count": null,
   "outputs": [],
   "source": [
    "from brax.envs.wrappers import EpisodeWrapper, AutoResetWrapper, VmapWrapper\n",
    "from time import time\n",
    "\n",
    "ENV_NAME = 'fetch' # Create basic fetch environment (one of the few with 'rng' in its state.info)\n",
    "NUM_ENVS = 2048\n",
    "EPISODE_LENGTH = 1000\n",
    "T = 10000\n",
    "\n",
    "# Vmap wrapper requires us to pass key of batch size (vs VectorWrapper)\n",
    "BASE_KEY = jax.random.PRNGKey(0)\n",
    "MULTI_KEY = jax.random.split(BASE_KEY, NUM_ENVS)\n",
    "\n",
    "base_env = VmapWrapper(EpisodeWrapper(envs._envs[ENV_NAME](), EPISODE_LENGTH, 1))\n",
    "action = jax.numpy.ones(10)"
   ],
   "metadata": {
    "collapsed": false,
    "pycharm": {
     "name": "#%%\n"
    }
   }
  },
  {
   "cell_type": "code",
   "execution_count": null,
   "outputs": [],
   "source": [
    "for reset_wrapper_class in [AutoResetWrapper, RandomizedAutoResetWrapperNaive, RandomizedAutoResetWrapperOnTerminal]:\n",
    "    name = reset_wrapper_class.__name__\n",
    "    e = reset_wrapper_class(base_env)\n",
    "    state = jax.jit(e.reset)(MULTI_KEY)\n",
    "    %%timeit\n",
    "    for _ in range(T):\n",
    "        state = jax.jit(e.step)(state, action)\n"
   ],
   "metadata": {
    "collapsed": false,
    "pycharm": {
     "name": "#%%\n"
    }
   }
  }
 ],
 "metadata": {
  "kernelspec": {
   "display_name": "Python 3",
   "language": "python",
   "name": "python3"
  },
  "language_info": {
   "codemirror_mode": {
    "name": "ipython",
    "version": 2
   },
   "file_extension": ".py",
   "mimetype": "text/x-python",
   "name": "python",
   "nbconvert_exporter": "python",
   "pygments_lexer": "ipython2",
   "version": "2.7.6"
  }
 },
 "nbformat": 4,
 "nbformat_minor": 0
}