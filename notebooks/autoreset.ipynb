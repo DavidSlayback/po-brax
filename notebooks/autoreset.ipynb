{
 "cells": [
  {
   "cell_type": "code",
   "execution_count": null,
   "metadata": {
    "collapsed": true
   },
   "outputs": [],
   "source": [
    "from IPython.display import HTML, Image\n",
    "\n",
    "try:\n",
    "  import brax\n",
    "except ImportError:\n",
    "  from IPython.display import clear_output\n",
    "  !pip install git+https://github.com/google/brax.git@main\n",
    "  clear_output()\n",
    "  import brax\n",
    "\n",
    "from brax import envs\n",
    "from brax.io import html\n",
    "# import timeit"
   ]
  },
  {
   "cell_type": "code",
   "execution_count": null,
   "outputs": [],
   "source": [
    "import jax\n",
    "from brax.jumpy import _in_jit, Callable,Any\n",
    "\n",
    "\n",
    "def cond(pred, true_fun: Callable, false_fun: Callable, *operands: Any):\n",
    "    if _in_jit():\n",
    "        return jax.lax.cond(pred, true_fun, false_fun, *operands)\n",
    "    else:\n",
    "        if pred:return true_fun(operands)\n",
    "        else: return false_fun(operands)"
   ],
   "metadata": {
    "collapsed": false,
    "pycharm": {
     "name": "#%%\n"
    }
   }
  },
  {
   "cell_type": "code",
   "execution_count": null,
   "outputs": [],
   "source": [
    "from brax.envs import State, Wrapper\n",
    "import brax.jumpy as jp\n",
    "class RandomizedAutoResetWrapperNaive(Wrapper):\n",
    "    \"\"\"Automatically resets Brax envs that are done.\n",
    "\n",
    "    Force resample every step. Inefficient\"\"\"\n",
    "    def step(self, state: State, action: jp.ndarray) -> State:\n",
    "        if 'steps' in state.info:\n",
    "            steps = state.info['steps']\n",
    "            steps = jp.where(state.done, jp.zeros_like(steps), steps)\n",
    "            state.info.update(steps=steps)\n",
    "        state = state.replace(done=jp.zeros_like(state.done))\n",
    "        state = self.env.step(state, action)\n",
    "        maybe_reset = self.reset(state.info['rng'])\n",
    "\n",
    "        def where_done(x, y):\n",
    "            done = state.done\n",
    "            if done.shape:\n",
    "                done = jp.reshape(done, [x.shape[0]] + [1] * (len(x.shape) - 1))  # type: ignore\n",
    "            return jp.where(done, x, y)\n",
    "\n",
    "        qp = jp.tree_map(where_done, maybe_reset.qp, state.qp)\n",
    "        obs = where_done(maybe_reset.obs, state.obs)\n",
    "        return state.replace(qp=qp, obs=obs)\n",
    "\n",
    "\n",
    "class RandomizedAutoResetWrapperOnTerminal(Wrapper):\n",
    "    \"\"\"Automatically reset Brax envs that are done.\n",
    "\n",
    "    Resample only when >=1 environment is actually done. Still resamples for all\n",
    "    \"\"\"\n",
    "    def step(self, state: State, action: jp.ndarray) -> State:\n",
    "        if 'steps' in state.info:\n",
    "            steps = state.info['steps']\n",
    "            steps = jp.where(state.done, jp.zeros_like(steps), steps)\n",
    "            state.info.update(steps=steps)\n",
    "        state = state.replace(done=jp.zeros_like(state.done))\n",
    "        state = self.env.step(state, action)\n",
    "        maybe_reset = cond(state.done.any(), self.reset, lambda rng: state, state.info['rng'])\n",
    "\n",
    "        def where_done(x, y):\n",
    "            done = state.done\n",
    "            if done.shape:\n",
    "                done = jp.reshape(done, [x.shape[0]] + [1] * (len(x.shape) - 1))  # type: ignore\n",
    "            return jp.where(done, x, y)\n",
    "\n",
    "        qp = jp.tree_map(where_done, maybe_reset.qp, state.qp)\n",
    "        obs = where_done(maybe_reset.obs, state.obs)\n",
    "        return state.replace(qp=qp, obs=obs)"
   ],
   "metadata": {
    "collapsed": false,
    "pycharm": {
     "name": "#%%\n"
    }
   }
  },
  {
   "cell_type": "code",
   "execution_count": null,
   "outputs": [],
   "source": [
    "from brax.envs.wrappers import EpisodeWrapper, AutoResetWrapper, VmapWrapper\n",
    "import time\n",
    "\n",
    "ENV_NAME = 'fetch' # Create basic fetch environment (one of the few with 'rng' in its state.info)\n",
    "NUM_ENVS = 2048\n",
    "EPISODE_LENGTH = 40\n",
    "T = 1000\n",
    "\n",
    "# Vmap wrapper requires us to pass key of batch size (vs VectorWrapper)\n",
    "BASE_KEY = jax.random.PRNGKey(0)\n",
    "MULTI_KEY = jax.random.split(BASE_KEY, NUM_ENVS)\n",
    "\n",
    "base_env = VmapWrapper(EpisodeWrapper(envs._envs[ENV_NAME](), EPISODE_LENGTH, 1))\n",
    "action = jax.numpy.ones((NUM_ENVS, 10))  # Action on GPU/TPU to save transfer"
   ],
   "metadata": {
    "collapsed": false,
    "pycharm": {
     "name": "#%%\n"
    }
   }
  },
  {
   "cell_type": "code",
   "execution_count": null,
   "outputs": [],
   "source": [
    "for reset_wrapper_class in [AutoResetWrapper, RandomizedAutoResetWrapperNaive, RandomizedAutoResetWrapperOnTerminal]:\n",
    "    name = reset_wrapper_class.__name__\n",
    "    print(f'testing runtime for {name}')\n",
    "    e = reset_wrapper_class(base_env)\n",
    "    times = [time.time()]\n",
    "    state = jax.jit(e.reset)(MULTI_KEY)\n",
    "    for _ in range(T):\n",
    "        state = jax.jit(e.step)(state, action)\n",
    "        times.append(time.time())\n",
    "    print(f'jit times (rough){times[1] - times[0]}')\n",
    "    print(f'avg step time{jp.mean(times[11:] - times[10:-1])}')\n"
   ],
   "metadata": {
    "collapsed": false,
    "pycharm": {
     "name": "#%%\n"
    }
   }
  }
 ],
 "metadata": {
  "kernelspec": {
   "display_name": "Python 3",
   "language": "python",
   "name": "python3"
  },
  "language_info": {
   "codemirror_mode": {
    "name": "ipython",
    "version": 2
   },
   "file_extension": ".py",
   "mimetype": "text/x-python",
   "name": "python",
   "nbconvert_exporter": "python",
   "pygments_lexer": "ipython2",
   "version": "2.7.6"
  }
 },
 "nbformat": 4,
 "nbformat_minor": 0
}